{
 "cells": [
  {
   "cell_type": "markdown",
   "metadata": {},
   "source": [
    "# Creating a VM Instance\n"
   ]
  },
  {
   "cell_type": "markdown",
   "metadata": {},
   "source": [
    "<ul>\n",
    "    <li>After VM instance is created. Update all the software using this command “sudo apt–get update”.</li>\n",
    "    <li>Let’s say we want install version controlling system in our VM machine. Let’s install git by following command “sudo apt-get -y -qq install git”. To see what version of git has been installed in our VM machine run “git --version”.</li>\n",
    "    <li>Check whether python is installed in the machine by “python --version”. If not installed, then install by “sudo apt-get -y -qq install python”. This will give us python2.</li>\n",
    "    <li>If we want to install python3, “sudo apt-get –y –qq install python3”.</li>\n",
    "</ul>\n"
   ]
  },
  {
   "cell_type": "code",
   "execution_count": null,
   "metadata": {},
   "outputs": [],
   "source": []
  }
 ],
 "metadata": {
  "kernelspec": {
   "display_name": "Python 3",
   "language": "python",
   "name": "python3"
  },
  "language_info": {
   "codemirror_mode": {
    "name": "ipython",
    "version": 3
   },
   "file_extension": ".py",
   "mimetype": "text/x-python",
   "name": "python",
   "nbconvert_exporter": "python",
   "pygments_lexer": "ipython3",
   "version": "3.7.0"
  }
 },
 "nbformat": 4,
 "nbformat_minor": 2
}
