{
 "cells": [
  {
   "cell_type": "markdown",
   "metadata": {},
   "source": [
    "# Creating a VM Instance Using The Command Line"
   ]
  },
  {
   "cell_type": "markdown",
   "metadata": {},
   "source": [
    "<ul>\n",
    "    <li>To create a new VM instance paste this code to gcloud command line “gcloud compute instances create vm-using-cmd –zone us-centrall1-a”.</li>\n",
    "    <li>If we need help with creating VM instance, Type “gcloud create compute instances --help”.</li>\n",
    "    <li>We can create some default value in our configuration file. So next time we create new instance, those will use this default value. If we set the default zone by “gcloud config set comput/zone us-central1-c”.</li>\n",
    "    <li>If we want to ssh from command line, Type “gcloud compute ssh vm-using-cmd”.</li>\n",
    "</ul>"
   ]
  },
  {
   "cell_type": "code",
   "execution_count": null,
   "metadata": {},
   "outputs": [],
   "source": []
  }
 ],
 "metadata": {
  "kernelspec": {
   "display_name": "Python 3",
   "language": "python",
   "name": "python3"
  },
  "language_info": {
   "codemirror_mode": {
    "name": "ipython",
    "version": 3
   },
   "file_extension": ".py",
   "mimetype": "text/x-python",
   "name": "python",
   "nbconvert_exporter": "python",
   "pygments_lexer": "ipython3",
   "version": "3.7.0"
  }
 },
 "nbformat": 4,
 "nbformat_minor": 2
}
